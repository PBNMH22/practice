{
 "cells": [
  {
   "cell_type": "markdown",
   "metadata": {},
   "source": [
    "1) Reverse each words in sentence without using library function.\n",
    "\n",
    " e.g  input: \"I Love my India\"  output \"India my Love I\""
   ]
  },
  {
   "cell_type": "code",
   "execution_count": 1,
   "metadata": {},
   "outputs": [
    {
     "name": "stdout",
     "output_type": "stream",
     "text": [
      "India my Love I\n"
     ]
    }
   ],
   "source": [
    "pride='I Love my India'\n",
    "pride=pride.split()\n",
    "reverse=pride[::-1]\n",
    "print(\" \".join(reverse))\n"
   ]
  },
  {
   "cell_type": "code",
   "execution_count": null,
   "metadata": {},
   "outputs": [],
   "source": []
  },
  {
   "cell_type": "markdown",
   "metadata": {},
   "source": [
    "2) You have to write a program to transform input array into output array.\n",
    "\n",
    "Refer to below example to figure out transformation rule\n",
    "\n",
    "Input Array :  2,4,8,5,12,15,6,10,7,30,25,43,46,45,21\n",
    "\n",
    "Output Array :  2,4,8, 12, 6, 7, 43,46,21, 5,15,10,30,25,45\n",
    "\n",
    "Do not use duplicate or extra array."
   ]
  },
  {
   "cell_type": "code",
   "execution_count": 4,
   "metadata": {},
   "outputs": [
    {
     "data": {
      "text/plain": [
       "{2, 4, 5, 6, 7, 8, 10, 12, 15, 21, 25, 30, 43, 45, 46}"
      ]
     },
     "execution_count": 4,
     "metadata": {},
     "output_type": "execute_result"
    }
   ],
   "source": [
    "inp=2,4,8,5,12,15,6,10,7,30,25,43,46,45,21\n",
    "set(inp)"
   ]
  },
  {
   "cell_type": "code",
   "execution_count": 5,
   "metadata": {},
   "outputs": [
    {
     "data": {
      "text/plain": [
       "(2, 4, 8, 5, 12, 15, 6, 10, 7, 30, 25, 43, 46, 45, 21)"
      ]
     },
     "execution_count": 5,
     "metadata": {},
     "output_type": "execute_result"
    }
   ],
   "source": [
    "inp"
   ]
  },
  {
   "cell_type": "code",
   "execution_count": 6,
   "metadata": {},
   "outputs": [
    {
     "data": {
      "text/plain": [
       "(2, 4, 8, 5, 12, 15, 6, 10, 7, 30, 25, 43, 46, 45, 21)"
      ]
     },
     "execution_count": 6,
     "metadata": {},
     "output_type": "execute_result"
    }
   ],
   "source": [
    "inp"
   ]
  },
  {
   "cell_type": "code",
   "execution_count": 7,
   "metadata": {},
   "outputs": [
    {
     "data": {
      "text/plain": [
       "(2, 4, 8, 5, 12, 15, 6, 10, 7, 30, 25, 43, 46, 45, 21)"
      ]
     },
     "execution_count": 7,
     "metadata": {},
     "output_type": "execute_result"
    }
   ],
   "source": [
    "inp"
   ]
  },
  {
   "cell_type": "code",
   "execution_count": null,
   "metadata": {},
   "outputs": [],
   "source": []
  },
  {
   "cell_type": "markdown",
   "metadata": {},
   "source": [
    "3) Make a encryption decryption rule\n",
    "\n",
    "3a) Build a logic to generate 8 character string using some rule A\n",
    "\n",
    "3b) Build other logic which take the 8 character string and validate if input string is generated from rule A.\n",
    "\n",
    "You can consider this as generating the product key, for most of the licensed software while installing you need to enter a key which is 16 or 20 character long , if string is valid you can install otherwise you cannot install. \n",
    "\n",
    "So 3a will produce valid product keys and 3b will validate the product keys\n",
    "\n",
    "write rule A which cannot be easily cracked."
   ]
  },
  {
   "cell_type": "code",
   "execution_count": null,
   "metadata": {},
   "outputs": [],
   "source": [
    "import uuid\n",
    "stringLength = 8\n",
    "randomString = uuid.uuid4().hex\n",
    "randomString=randomString[0:stringLength]\n",
    "f=print(randomString)\n",
    "if f==uuid.uuid4().hex:\n",
    "    print('Security key is verified')\n",
    "    \n",
    "else:\n",
    "    print('Please buy a new key')"
   ]
  }
 ],
 "metadata": {
  "kernelspec": {
   "display_name": "Python 3",
   "language": "python",
   "name": "python3"
  },
  "language_info": {
   "codemirror_mode": {
    "name": "ipython",
    "version": 3
   },
   "file_extension": ".py",
   "mimetype": "text/x-python",
   "name": "python",
   "nbconvert_exporter": "python",
   "pygments_lexer": "ipython3",
   "version": "3.7.2"
  }
 },
 "nbformat": 4,
 "nbformat_minor": 2
}
