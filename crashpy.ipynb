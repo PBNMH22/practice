{
 "cells": [
  {
   "cell_type": "markdown",
   "metadata": {},
   "source": [
    "even and odd"
   ]
  },
  {
   "cell_type": "code",
   "execution_count": 5,
   "metadata": {},
   "outputs": [
    {
     "name": "stdout",
     "output_type": "stream",
     "text": [
      "enter a number to check whether it is even or odd: 86\n",
      "the number you have entered 86 is even\n"
     ]
    }
   ],
   "source": [
    "number=input('enter a number to check whether it is even or odd: ')\n",
    "number=int(number)\n",
    "if number %2 == 0 :\n",
    "    print('the number you have entered '+ str(number) + ' is even.')\n",
    "else:\n",
    "    print(str(number)+ ' is odd')"
   ]
  },
  {
   "cell_type": "markdown",
   "metadata": {},
   "source": [
    "while loop"
   ]
  },
  {
   "cell_type": "code",
   "execution_count": 3,
   "metadata": {},
   "outputs": [
    {
     "name": "stdout",
     "output_type": "stream",
     "text": [
      "\n",
      " Tell me something and i will repeat back to you\n",
      "Type q to quit  dfjasd\n",
      "dfjasd\n",
      "\n",
      " Tell me something and i will repeat back to you\n",
      "Type q to quit  ajdasjd\n",
      "ajdasjd\n",
      "\n",
      " Tell me something and i will repeat back to you\n",
      "Type q to quit  q\n"
     ]
    }
   ],
   "source": [
    "prompt=\"\\n Tell me something and i will repeat back to you\"\n",
    "prompt+=\"\\nType q to quit  \"\n",
    "active=True\n",
    "while active:\n",
    "    message=input(prompt)\n",
    "    if message=='q':\n",
    "        active=False\n",
    "    else:\n",
    "        print(message)"
   ]
  },
  {
   "cell_type": "code",
   "execution_count": 4,
   "metadata": {},
   "outputs": [
    {
     "name": "stdout",
     "output_type": "stream",
     "text": [
      "\n",
      " Tell me something and i will repeat back to you\n",
      "Type q to quit  sdd\n",
      "sdd\n",
      "\n",
      " Tell me something and i will repeat back to you\n",
      "Type q to quit  sfsd\n",
      "sfsd\n",
      "\n",
      " Tell me something and i will repeat back to you\n",
      "Type q to quit  fdf\n",
      "fdf\n",
      "\n",
      " Tell me something and i will repeat back to you\n",
      "Type q to quit  a\n",
      "a\n",
      "\n",
      " Tell me something and i will repeat back to you\n",
      "Type q to quit  s\n",
      "s\n",
      "\n",
      " Tell me something and i will repeat back to you\n",
      "Type q to quit  d\n",
      "d\n",
      "\n",
      " Tell me something and i will repeat back to you\n",
      "Type q to quit  q\n"
     ]
    }
   ],
   "source": [
    "prompt=\"\\n Tell me something and i will repeat back to you\"\n",
    "prompt+=\"\\nType q to quit  \"\n",
    "while True :\n",
    "    message=input(prompt)\n",
    "    if message=='q':\n",
    "        break\n",
    "    else:\n",
    "        print(message)"
   ]
  },
  {
   "cell_type": "markdown",
   "metadata": {},
   "source": [
    "Again even odd using continue"
   ]
  },
  {
   "cell_type": "code",
   "execution_count": 6,
   "metadata": {},
   "outputs": [
    {
     "name": "stdout",
     "output_type": "stream",
     "text": [
      "1\n",
      "3\n",
      "5\n",
      "7\n",
      "9\n"
     ]
    }
   ],
   "source": [
    "number = 0\n",
    "while number < 10 :\n",
    "    number +=1\n",
    "    if number % 2 == 0:\n",
    "        continue\n",
    "    else:\n",
    "        print(number)"
   ]
  },
  {
   "cell_type": "code",
   "execution_count": 7,
   "metadata": {},
   "outputs": [],
   "source": [
    "## thank you"
   ]
  },
  {
   "cell_type": "code",
   "execution_count": null,
   "metadata": {},
   "outputs": [],
   "source": []
  }
 ],
 "metadata": {
  "kernelspec": {
   "display_name": "Python 3",
   "language": "python",
   "name": "python3"
  },
  "language_info": {
   "codemirror_mode": {
    "name": "ipython",
    "version": 3
   },
   "file_extension": ".py",
   "mimetype": "text/x-python",
   "name": "python",
   "nbconvert_exporter": "python",
   "pygments_lexer": "ipython3",
   "version": "3.7.2"
  }
 },
 "nbformat": 4,
 "nbformat_minor": 2
}
