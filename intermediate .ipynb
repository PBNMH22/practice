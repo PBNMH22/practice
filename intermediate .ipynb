{
 "cells": [
  {
   "cell_type": "code",
   "execution_count": 1,
   "metadata": {},
   "outputs": [
    {
     "data": {
      "text/plain": [
       "<function dir>"
      ]
     },
     "execution_count": 1,
     "metadata": {},
     "output_type": "execute_result"
    }
   ],
   "source": [
    "dir"
   ]
  },
  {
   "cell_type": "code",
   "execution_count": 2,
   "metadata": {},
   "outputs": [],
   "source": [
    "mkdir no_one"
   ]
  },
  {
   "cell_type": "code",
   "execution_count": 3,
   "metadata": {},
   "outputs": [
    {
     "name": "stdout",
     "output_type": "stream",
     "text": [
      "E:\\om\\deepak\\no_one\n"
     ]
    }
   ],
   "source": [
    "cd no_one"
   ]
  },
  {
   "cell_type": "code",
   "execution_count": 4,
   "metadata": {},
   "outputs": [
    {
     "name": "stdout",
     "output_type": "stream",
     "text": [
      "\n",
      "The following command must be run outside of the IPython shell:\n",
      "\n",
      "    $ pip help()\n",
      "\n",
      "The Python package manager (pip) can only be used from outside of IPython.\n",
      "Please reissue the `pip` command in a separate terminal or command prompt.\n",
      "\n",
      "See the Python documentation for more information on how to install packages:\n",
      "\n",
      "    https://docs.python.org/3/installing/\n"
     ]
    }
   ],
   "source": [
    "pip help()"
   ]
  },
  {
   "cell_type": "code",
   "execution_count": null,
   "metadata": {},
   "outputs": [
    {
     "name": "stdout",
     "output_type": "stream",
     "text": [
      "\n",
      "Welcome to Python 3.7's help utility!\n",
      "\n",
      "If this is your first time using Python, you should definitely check out\n",
      "the tutorial on the Internet at https://docs.python.org/3.7/tutorial/.\n",
      "\n",
      "Enter the name of any module, keyword, or topic to get help on writing\n",
      "Python programs and using Python modules.  To quit this help utility and\n",
      "return to the interpreter, just type \"quit\".\n",
      "\n",
      "To get a list of available modules, keywords, symbols, or topics, type\n",
      "\"modules\", \"keywords\", \"symbols\", or \"topics\".  Each module also comes\n",
      "with a one-line summary of what it does; to list the modules whose name\n",
      "or summary contain a given string such as \"spam\", type \"modules spam\".\n",
      "\n",
      "help> modules\n",
      "\n",
      "Please wait a moment while I gather a list of all available modules...\n",
      "\n"
     ]
    },
    {
     "name": "stderr",
     "output_type": "stream",
     "text": [
      "C:\\Users\\abc\\Miniconda3\\envs\\myenv\\lib\\site-packages\\IPython\\kernel\\__init__.py:13: ShimWarning: The `IPython.kernel` package has been deprecated since IPython 4.0.You should import from ipykernel or jupyter_client instead.\n",
      "  \"You should import from ipykernel or jupyter_client instead.\", ShimWarning)\n",
      "C:\\Users\\abc\\Miniconda3\\envs\\myenv\\lib\\pkgutil.py:107: VisibleDeprecationWarning: zmq.eventloop.minitornado is deprecated in pyzmq 14.0 and will be removed.\n",
      "    Install tornado itself to use zmq with the tornado IOLoop.\n",
      "    \n",
      "  yield from walk_packages(path, info.name+'.', onerror)\n"
     ]
    },
    {
     "name": "stdout",
     "output_type": "stream",
     "text": [
      "IPython             atexit              jedi                send2trash\n",
      "PyQt5               audioop             jinja2              setuptools\n",
      "__future__          autoreload          json                shelve\n",
      "_abc                backcall            jsonschema          shlex\n",
      "_ast                base64              jupyter             shutil\n",
      "_asyncio            bdb                 jupyter_client      signal\n",
      "_bisect             binascii            jupyter_console     sip\n",
      "_blake2             binhex              jupyter_core        sipconfig\n",
      "_bootlocale         bisect              keyword             sipdistutils\n",
      "_bz2                bleach              kiwisolver          site\n",
      "_codecs             builtins            lib2to3             six\n",
      "_codecs_cn          bz2                 linecache           smtpd\n",
      "_codecs_hk          cProfile            locale              smtplib\n",
      "_codecs_iso2022     calendar            logging             sndhdr\n",
      "_codecs_jp          certifi             lzma                socket\n",
      "_codecs_kr          cgi                 macpath             socketserver\n",
      "_codecs_tw          cgitb               mailbox             sqlite3\n",
      "_collections        chunk               mailcap             sre_compile\n",
      "_collections_abc    cmath               markupsafe          sre_constants\n",
      "_compat_pickle      cmd                 marshal             sre_parse\n",
      "_compression        code                math                ssl\n",
      "_contextvars        codecs              matplotlib          stat\n",
      "_csv                codeop              mimetypes           statistics\n",
      "_ctypes             collections         mistune             storemagic\n",
      "_ctypes_test        colorama            mkl_fft             string\n",
      "_datetime           colorsys            mkl_random          stringprep\n",
      "_decimal            compileall          mmap                struct\n",
      "_dummy_thread       concurrent          modulefinder        subprocess\n",
      "_elementtree        configparser        msilib              sunau\n",
      "_functools          contextlib          msvcrt              symbol\n",
      "_hashlib            contextvars         multiprocessing     sympyprinting\n",
      "_heapq              copy                nbconvert           symtable\n",
      "_imp                copyreg             nbformat            sys\n",
      "_io                 crypt               netrc               sysconfig\n",
      "_json               csv                 nntplib             tabnanny\n",
      "_locale             ctypes              notebook            tarfile\n",
      "_lsprof             curses              nt                  telnetlib\n",
      "_lzma               cycler              ntpath              tempfile\n",
      "_markupbase         cythonmagic         nturl2path          terminado\n",
      "_md5                dataclasses         numbers             test\n",
      "_msi                datetime            numpy               testpath\n",
      "_multibytecodec     dateutil            opcode              tests\n",
      "_multiprocessing    dbm                 operator            textwrap\n",
      "_opcode             decimal             optparse            this\n",
      "_operator           decorator           os                  threading\n",
      "_osx_support        difflib             pandas              time\n",
      "_overlapped         dis                 pandocfilters       timeit\n",
      "_pickle             distutils           parser              tkinter\n",
      "_py_abc             doctest             parso               token\n",
      "_pydecimal          dummy_threading     pathlib             tokenize\n",
      "_pyio               easy_install        pdb                 tornado\n",
      "_queue              email               pickle              trace\n",
      "_random             encodings           pickleshare         traceback\n",
      "_sha1               ensurepip           pickletools         tracemalloc\n",
      "_sha256             entrypoints         pip                 traitlets\n",
      "_sha3               enum                pipes               tty\n",
      "_sha512             errno               pkg_resources       turtle\n",
      "_signal             faulthandler        pkgutil             turtledemo\n",
      "_sitebuiltins       filecmp             platform            types\n",
      "_socket             fileinput           plistlib            typing\n",
      "_sqlite3            fnmatch             poplib              unicodedata\n",
      "_sre                formatter           posixpath           unittest\n",
      "_ssl                fractions           pprint              urllib\n",
      "_stat               ftplib              profile             uu\n",
      "_string             functools           prometheus_client   uuid\n",
      "_strptime           gc                  prompt_toolkit      venv\n",
      "_struct             genericpath         pstats              warnings\n",
      "_symtable           getopt              pty                 wave\n",
      "_testbuffer         getpass             py_compile          wcwidth\n",
      "_testcapi           gettext             pyclbr              weakref\n",
      "_testconsole        glob                pydoc               webbrowser\n",
      "_testimportmultiple gzip                pydoc_data          webencodings\n",
      "_testmultiphase     hashlib             pyexpat             wheel\n",
      "_thread             heapq               pygments            widgetsnbextension\n",
      "_threading_local    hmac                pylab               wincertstore\n",
      "_tkinter            html                pyparsing           winpty\n",
      "_tracemalloc        http                pytz                winreg\n",
      "_warnings           idlelib             qtconsole           winsound\n",
      "_weakref            imaplib             queue               wsgiref\n",
      "_weakrefset         imghdr              quopri              xdrlib\n",
      "_winapi             imp                 random              xml\n",
      "abc                 importlib           re                  xmlrpc\n",
      "aifc                inspect             reprlib             xxsubtype\n",
      "antigravity         io                  rlcompleter         zipapp\n",
      "argparse            ipaddress           rmagic              zipfile\n",
      "array               ipykernel           runpy               zipimport\n",
      "ast                 ipykernel_launcher  sched               zlib\n",
      "asynchat            ipython_genutils    secrets             zmq\n",
      "asyncio             ipywidgets          select              \n",
      "asyncore            itertools           selectors           \n",
      "\n",
      "Enter any module name to get more help.  Or, type \"modules spam\" to search\n",
      "for modules whose name or summary contain the string \"spam\".\n",
      "\n"
     ]
    }
   ],
   "source": [
    "help()"
   ]
  },
  {
   "cell_type": "code",
   "execution_count": null,
   "metadata": {},
   "outputs": [],
   "source": [
    "exit()"
   ]
  },
  {
   "cell_type": "code",
   "execution_count": 20,
   "metadata": {},
   "outputs": [
    {
     "name": "stdout",
     "output_type": "stream",
     "text": [
      "[1, 2, 3, 4, 5, 6, 7, 8, 9, 10, 11, 12, 13, 14, 15, 16, 17, 18, 19, 20, 21, 22, 23, 24, 25, 26, 27, 28, 29, 30, 31, 32, 33, 34, 35, 36, 37, 38, 39, 40, 41, 42, 43, 44, 45, 46, 47, 48, 49, 50, 51, 52, 53, 54, 55, 56, 57, 58, 59, 60, 61, 62, 63, 64, 65, 66, 67, 68, 69, 70, 71, 72, 73, 74, 75, 76, 77, 78, 79, 80, 81, 82, 83, 84, 85, 86, 87, 88, 89, 90, 91, 92, 93, 94, 95, 96, 97, 98, 99]\n"
     ]
    }
   ],
   "source": [
    "mylist=[]\n",
    "for n in range(1,100):\n",
    "    mylist.append(n)\n",
    "print(mylist)"
   ]
  },
  {
   "cell_type": "code",
   "execution_count": 30,
   "metadata": {},
   "outputs": [
    {
     "name": "stdout",
     "output_type": "stream",
     "text": [
      "[1, 9, 25, 49, 81, 121, 169, 225, 289, 361, 441, 529, 625, 729, 841, 961, 1089, 1225, 1369, 1521, 1681, 1849, 2025, 2209, 2401, 2601, 2809, 3025, 3249, 3481, 3721, 3969, 4225, 4489, 4761, 5041, 5329, 5625, 5929, 6241, 6561, 6889, 7225, 7569, 7921, 8281, 8649, 9025, 9409, 9801]\n"
     ]
    }
   ],
   "source": [
    "mylist=[n*n for n in range(1,100) ]\n",
    "print(mylist[::2])"
   ]
  },
  {
   "cell_type": "code",
   "execution_count": null,
   "metadata": {},
   "outputs": [],
   "source": []
  }
 ],
 "metadata": {
  "kernelspec": {
   "display_name": "Python 3",
   "language": "python",
   "name": "python3"
  },
  "language_info": {
   "codemirror_mode": {
    "name": "ipython",
    "version": 3
   },
   "file_extension": ".py",
   "mimetype": "text/x-python",
   "name": "python",
   "nbconvert_exporter": "python",
   "pygments_lexer": "ipython3",
   "version": "3.7.2"
  }
 },
 "nbformat": 4,
 "nbformat_minor": 2
}
